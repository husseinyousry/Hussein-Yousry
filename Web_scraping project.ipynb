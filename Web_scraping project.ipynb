{
  "nbformat": 4,
  "nbformat_minor": 0,
  "metadata": {
    "colab": {
      "private_outputs": true,
      "provenance": []
    },
    "kernelspec": {
      "name": "python3",
      "display_name": "Python 3"
    },
    "language_info": {
      "name": "python"
    }
  },
  "cells": [
    {
      "cell_type": "code",
      "execution_count": null,
      "metadata": {
        "id": "fMUF0uzsfW0p"
      },
      "outputs": [],
      "source": [
        "import requests\n",
        "from bs4 import BeautifulSoup\n",
        "import csv"
      ]
    },
    {
      "cell_type": "code",
      "source": [
        "responce = requests.get(f'https://www.noon.com/egypt-en/search/?q=mackbook')\n",
        "responce.status_code"
      ],
      "metadata": {
        "id": "zqe0YfZjJ1cA"
      },
      "execution_count": null,
      "outputs": []
    },
    {
      "cell_type": "code",
      "source": [
        "soup = BeautifulSoup(responce.content, 'html.parser')\n",
        "soup"
      ],
      "metadata": {
        "id": "B5aiW4q_PAjU"
      },
      "execution_count": null,
      "outputs": []
    },
    {
      "cell_type": "code",
      "source": [
        "all_models = soup.find_all('div' , attrs= {'class':'sc-63bc8e9b-7 hZVQUI grid'})\n",
        "all_models"
      ],
      "metadata": {
        "id": "msB154ris1JU"
      },
      "execution_count": null,
      "outputs": []
    },
    {
      "cell_type": "markdown",
      "source": [
        "## model"
      ],
      "metadata": {
        "id": "tgQUuXDffq4e"
      }
    },
    {
      "cell_type": "code",
      "source": [
        "model = all_models[0].find('div',class_='sc-d96389d1-25 ZhQmN').get('title')[0:49]\n",
        "model"
      ],
      "metadata": {
        "id": "DhcSFIKzek-E"
      },
      "execution_count": null,
      "outputs": []
    },
    {
      "cell_type": "markdown",
      "source": [
        "## spics"
      ],
      "metadata": {
        "id": "dTP4vJnztHN2"
      }
    },
    {
      "cell_type": "code",
      "source": [
        "spics=all_models[0].find('div',class_='sc-d96389d1-25 ZhQmN').get('title')[60:]\n",
        "spics"
      ],
      "metadata": {
        "id": "jqusSPsOs9cr"
      },
      "execution_count": null,
      "outputs": []
    },
    {
      "cell_type": "markdown",
      "source": [
        "##Price"
      ],
      "metadata": {
        "id": "0ps2C2svf1Ep"
      }
    },
    {
      "cell_type": "code",
      "source": [
        "price = all_models[0].find('div',class_='sc-97957b12-1 fYKLkk').text\n",
        "price"
      ],
      "metadata": {
        "id": "EyG3_Sx77ajs"
      },
      "execution_count": null,
      "outputs": []
    },
    {
      "cell_type": "code",
      "source": [
        "model = []\n",
        "spics = []\n",
        "price = []\n",
        "for page in range(1,2):\n",
        "  responce = requests.get(f'https://www.noon.com/egypt-en/search/?q=mackbook&page={page}')\n",
        "  soup = BeautifulSoup(responce.content, 'html.parser')\n",
        "  all_models = soup.find_all('div' , attrs= {'class':'sc-63bc8e9b-7 hZVQUI grid'})\n",
        "  for all in all_models:\n",
        "    try:\n",
        "      model.append(all.find('div',class_='sc-d96389d1-25 ZhQmN').get('title')[0:49])\n",
        "      spics.append(all.find('div',class_='sc-d96389d1-25 ZhQmN').get('title')[60:])\n",
        "      price.append(all.find('div',class_='sc-97957b12-1 fYKLkk').text)\n",
        "    except:\n",
        "      pass\n"
      ],
      "metadata": {
        "id": "x2N9wV7eB5Sw"
      },
      "execution_count": null,
      "outputs": []
    },
    {
      "cell_type": "code",
      "source": [
        "import csv\n",
        "with open ('laptops.csv','w',newline='', encoding='utf-8') as file:\n",
        "    writer = csv.DictWriter(file,fieldnames=['model','spics','price'])\n",
        "    writer.writeheader()\n",
        "    for all_model in all_models:\n",
        "      model = all_model.find('div',class_='sc-d96389d1-25 ZhQmN').get('title')[0:49]\n",
        "      spics = all_model.find('div',class_='sc-d96389d1-25 ZhQmN').get('title')[60:]\n",
        "      price = all_model.find('div',class_='sc-97957b12-1 fYKLkk').text\n",
        "      writer.writerow({'model':model,'spics':spics,'price':price})"
      ],
      "metadata": {
        "id": "h6Hn8TKG74Hp"
      },
      "execution_count": null,
      "outputs": []
    },
    {
      "cell_type": "code",
      "source": [
        "import pandas as pd\n",
        "df = pd.read_csv('laptops.csv')\n",
        "df"
      ],
      "metadata": {
        "id": "78GI6Sqo9-Pg"
      },
      "execution_count": null,
      "outputs": []
    }
  ]
}