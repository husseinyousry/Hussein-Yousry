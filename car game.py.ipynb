{
 "cells": [
  {
   "cell_type": "code",
   "execution_count": 1,
   "metadata": {},
   "outputs": [
    {
     "name": "stdout",
     "output_type": "stream",
     "text": [
      "Car started, fasten your seatbelt and drive save..\n"
     ]
    }
   ],
   "source": [
    "optionss = (\"\"\"\n",
    "            Start -   to start the car\n",
    "            Stop  -  to stop the car  \n",
    "            quite -  to quite       \n",
    "              \"\"\")\n",
    "car_status = False\n",
    "command= \"\"\n",
    "while True:\n",
    "    command =  input(\"\") .lower()\n",
    "    if command == \"start\":\n",
    "        print(\"Car started, fasten your seatbelt and drive save..\")\n",
    "        if car_status:\n",
    "            print(\"car already started\")\n",
    "        car_status=True\n",
    "        \n",
    "            \n",
    "    elif command == \"stop\":\n",
    "        print(\"The car has stopped\")\n",
    "    \n",
    "    elif command == \"help\":\n",
    "        print(\"\"\"   Here are the guide line:\n",
    "                Start -   to start the car\n",
    "                Stop  -  to stop the car  \n",
    "                quite -  to quite       \n",
    "              \"\"\")\n",
    "        \n",
    "    elif command == \"quite\":\n",
    "        print(\"the game has terminated,  hope you enjoied it !\")\n",
    "        break\n",
    "else:\n",
    "    print(f\" I do't understand !!, here are the available commands, {optionss}\")"
   ]
  }
 ],
 "metadata": {
  "kernelspec": {
   "display_name": "Python 3",
   "language": "python",
   "name": "python3"
  },
  "language_info": {
   "codemirror_mode": {
    "name": "ipython",
    "version": 3
   },
   "file_extension": ".py",
   "mimetype": "text/x-python",
   "name": "python",
   "nbconvert_exporter": "python",
   "pygments_lexer": "ipython3",
   "version": "3.12.6"
  }
 },
 "nbformat": 4,
 "nbformat_minor": 2
}
